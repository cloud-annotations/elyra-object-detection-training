{
 "cells": [
  {
   "cell_type": "code",
   "execution_count": null,
   "id": "environmental-reduction",
   "metadata": {
    "execution": {
     "iopub.execute_input": "2021-02-09T19:22:56.973433Z",
     "iopub.status.busy": "2021-02-09T19:22:56.972586Z",
     "iopub.status.idle": "2021-02-09T19:22:56.975125Z",
     "shell.execute_reply": "2021-02-09T19:22:56.975703Z"
    },
    "id": "hVPzEKoLuEHy",
    "papermill": {
     "duration": 0.016528,
     "end_time": "2021-02-09T19:22:56.975965",
     "exception": false,
     "start_time": "2021-02-09T19:22:56.959437",
     "status": "completed"
    },
    "tags": []
   },
   "outputs": [],
   "source": [
    "EXPORTED_PATH  = 'tmp/exported'\n",
    "LABEL_MAP_PATH = 'tmp/data/label_map.pbtxt'"
   ]
  },
  {
   "cell_type": "code",
   "execution_count": null,
   "id": "statutory-religion",
   "metadata": {
    "execution": {
     "iopub.execute_input": "2021-02-09T19:22:56.988639Z",
     "iopub.status.busy": "2021-02-09T19:22:56.987899Z",
     "iopub.status.idle": "2021-02-09T19:23:00.068998Z",
     "shell.execute_reply": "2021-02-09T19:23:00.069686Z"
    },
    "id": "o33_jgwGm3NV",
    "papermill": {
     "duration": 3.090316,
     "end_time": "2021-02-09T19:23:00.069902",
     "exception": false,
     "start_time": "2021-02-09T19:22:56.979586",
     "status": "completed"
    },
    "tags": []
   },
   "outputs": [],
   "source": [
    "!pip install tensorflow-hub==0.3.0\n",
    "!pip install --no-deps tensorflowjs==1.4.0"
   ]
  },
  {
   "cell_type": "code",
   "execution_count": null,
   "id": "acoustic-toilet",
   "metadata": {
    "execution": {
     "iopub.execute_input": "2021-02-09T19:23:00.085122Z",
     "iopub.status.busy": "2021-02-09T19:23:00.084081Z",
     "iopub.status.idle": "2021-02-09T19:23:07.841518Z",
     "shell.execute_reply": "2021-02-09T19:23:07.842114Z"
    },
    "id": "A-f5lfcnp01e",
    "papermill": {
     "duration": 7.767814,
     "end_time": "2021-02-09T19:23:07.842315",
     "exception": false,
     "start_time": "2021-02-09T19:23:00.074501",
     "status": "completed"
    },
    "tags": []
   },
   "outputs": [],
   "source": [
    "!tensorflowjs_converter \\\n",
    "  --input_format=tf_frozen_model \\\n",
    "  --output_format=tfjs_graph_model \\\n",
    "  --output_node_names='Postprocessor/ExpandDims_1,Postprocessor/Slice' \\\n",
    "  --quantization_bytes=1 \\\n",
    "  --skip_op_check \\\n",
    "  $EXPORTED_PATH/frozen_inference_graph.pb \\\n",
    "  model_web\n",
    "\n",
    "!cp $EXPORTED_PATH/labels.json model_web"
   ]
  }
 ],
 "metadata": {
  "accelerator": "GPU",
  "colab": {
   "collapsed_sections": [],
   "name": "Copy of Copy of object-detection.ipynb",
   "provenance": [],
   "toc_visible": true
  },
  "kernelspec": {
   "display_name": "Python 3",
   "language": "python",
   "name": "python3"
  },
  "language_info": {
   "codemirror_mode": {
    "name": "ipython",
    "version": 3
   },
   "file_extension": ".py",
   "mimetype": "text/x-python",
   "name": "python",
   "nbconvert_exporter": "python",
   "pygments_lexer": "ipython3",
   "version": "3.6.12"
  },
  "papermill": {
   "default_parameters": {},
   "duration": 12.374577,
   "end_time": "2021-02-09T19:23:08.059346",
   "environment_variables": {},
   "exception": null,
   "input_path": "/Users/niko/Desktop/obj/to-tfjs.ipynb",
   "output_path": "/Users/niko/Desktop/obj/to-tfjs.ipynb",
   "parameters": {},
   "start_time": "2021-02-09T19:22:55.684769",
   "version": "2.3.1"
  }
 },
 "nbformat": 4,
 "nbformat_minor": 5
}
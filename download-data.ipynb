{
 "cells": [
  {
   "cell_type": "markdown",
   "id": "grave-occasions",
   "metadata": {
    "id": "TZSL793i7KuM",
    "papermill": {
     "duration": 0.00763,
     "end_time": "2021-02-09T19:18:53.613018",
     "exception": false,
     "start_time": "2021-02-09T19:18:53.605388",
     "status": "completed"
    },
    "tags": []
   },
   "source": [
    "# Setup\n"
   ]
  },
  {
   "cell_type": "code",
   "execution_count": null,
   "id": "statutory-religion",
   "metadata": {
    "execution": {
     "iopub.execute_input": "2021-02-09T19:18:53.630488Z",
     "iopub.status.busy": "2021-02-09T19:18:53.629883Z",
     "iopub.status.idle": "2021-02-09T19:18:55.352228Z",
     "shell.execute_reply": "2021-02-09T19:18:55.352744Z"
    },
    "id": "o33_jgwGm3NV",
    "papermill": {
     "duration": 1.735265,
     "end_time": "2021-02-09T19:18:55.352953",
     "exception": false,
     "start_time": "2021-02-09T19:18:53.617688",
     "status": "completed"
    },
    "tags": []
   },
   "outputs": [],
   "source": [
    "!pip install ibm-cos-sdk==2.6 python-dotenv"
   ]
  },
  {
   "cell_type": "code",
   "execution_count": null,
   "id": "chief-choir",
   "metadata": {
    "execution": {
     "iopub.execute_input": "2021-02-09T19:18:55.374259Z",
     "iopub.status.busy": "2021-02-09T19:18:55.373585Z",
     "iopub.status.idle": "2021-02-09T19:18:55.380604Z",
     "shell.execute_reply": "2021-02-09T19:18:55.380976Z"
    },
    "id": "GmloKE6Qx8Lu",
    "papermill": {
     "duration": 0.016528,
     "end_time": "2021-02-09T19:18:55.381151",
     "exception": false,
     "start_time": "2021-02-09T19:18:55.364623",
     "status": "completed"
    },
    "tags": []
   },
   "outputs": [],
   "source": [
    "import os\n",
    "\n",
    "from dotenv import load_dotenv\n",
    "\n",
    "load_dotenv()\n",
    "\n",
    "bucket = os.getenv(\"BUCKET\", \"\")\n",
    "access_key_id = os.getenv(\"ACCESS_KEY_ID\", \"\")\n",
    "secret_access_key = os.getenv(\"SECRET_ACCESS_KEY\", \"\")\n",
    "endpoint_url = os.getenv(\"ENDPOINT_URL\", \"\")"
   ]
  },
  {
   "cell_type": "code",
   "execution_count": null,
   "id": "environmental-reduction",
   "metadata": {
    "execution": {
     "iopub.execute_input": "2021-02-09T19:18:55.403733Z",
     "iopub.status.busy": "2021-02-09T19:18:55.402962Z",
     "iopub.status.idle": "2021-02-09T19:18:55.437954Z",
     "shell.execute_reply": "2021-02-09T19:18:55.438387Z"
    },
    "id": "hVPzEKoLuEHy",
    "papermill": {
     "duration": 0.044659,
     "end_time": "2021-02-09T19:18:55.438566",
     "exception": false,
     "start_time": "2021-02-09T19:18:55.393907",
     "status": "completed"
    },
    "tags": []
   },
   "outputs": [],
   "source": [
    "import os\n",
    "import shutil\n",
    "\n",
    "if os.path.exists('tmp') and os.path.isdir('tmp'):\n",
    "    shutil.rmtree('tmp')\n",
    "\n",
    "if os.path.exists('model_web') and os.path.isdir('model_web'):\n",
    "    shutil.rmtree('model_web')\n",
    "\n",
    "CLOUD_ANNOTATIONS_DATA = os.path.join('tmp', bucket)\n",
    "\n",
    "os.makedirs(CLOUD_ANNOTATIONS_DATA, exist_ok=True)\n"
   ]
  },
  {
   "cell_type": "code",
   "execution_count": null,
   "id": "higher-jaguar",
   "metadata": {
    "execution": {
     "iopub.execute_input": "2021-02-09T19:18:55.454584Z",
     "iopub.status.busy": "2021-02-09T19:18:55.453899Z",
     "iopub.status.idle": "2021-02-09T19:18:55.557330Z",
     "shell.execute_reply": "2021-02-09T19:18:55.557699Z"
    },
    "papermill": {
     "duration": 0.114569,
     "end_time": "2021-02-09T19:18:55.557860",
     "exception": false,
     "start_time": "2021-02-09T19:18:55.443291",
     "status": "completed"
    },
    "tags": []
   },
   "outputs": [],
   "source": [
    "import json\n",
    "import ibm_boto3\n",
    "\n",
    "def download_file_cos(local_file_name, key): \n",
    "    '''\n",
    "    Wrapper function to download a file from cloud object storage using the\n",
    "    credential dict provided and loading it into memory\n",
    "    '''\n",
    "    cos = ibm_boto3.client(\n",
    "        service_name='s3',\n",
    "        aws_access_key_id=access_key_id,\n",
    "        aws_secret_access_key=secret_access_key,\n",
    "        endpoint_url=endpoint_url)\n",
    "    try:\n",
    "        res=cos.download_file(Bucket=bucket, Key=key, Filename=local_file_name)\n",
    "    except Exception as e:\n",
    "        print('Exception', e)\n",
    "    else:\n",
    "        print('File Downloaded')\n",
    "\n",
    "def get_annotations(): \n",
    "    cos = ibm_boto3.client(\n",
    "        service_name='s3',\n",
    "        aws_access_key_id=access_key_id,\n",
    "        aws_secret_access_key=secret_access_key,\n",
    "        endpoint_url=endpoint_url)\n",
    "    try:\n",
    "        return json.loads(cos.get_object(Bucket=bucket, Key='_annotations.json')['Body'].read())\n",
    "    except Exception as e:\n",
    "        print('Exception', e)"
   ]
  },
  {
   "cell_type": "code",
   "execution_count": null,
   "id": "french-african",
   "metadata": {
    "execution": {
     "iopub.execute_input": "2021-02-09T19:18:55.577736Z",
     "iopub.status.busy": "2021-02-09T19:18:55.576878Z",
     "iopub.status.idle": "2021-02-09T19:20:11.006324Z",
     "shell.execute_reply": "2021-02-09T19:20:11.007055Z"
    },
    "papermill": {
     "duration": 75.444818,
     "end_time": "2021-02-09T19:20:11.007312",
     "exception": false,
     "start_time": "2021-02-09T19:18:55.562494",
     "status": "completed"
    },
    "tags": []
   },
   "outputs": [],
   "source": [
    "annotations = get_annotations()\n",
    "\n",
    "download_file_cos(os.path.join(CLOUD_ANNOTATIONS_DATA, '_annotations.json'), '_annotations.json')\n",
    "\n",
    "for image in annotations['annotations'].keys():\n",
    "    local_path = os.path.join(CLOUD_ANNOTATIONS_DATA, image)\n",
    "    download_file_cos(local_path, image)"
   ]
  }
 ],
 "metadata": {
  "accelerator": "GPU",
  "colab": {
   "collapsed_sections": [],
   "name": "Copy of Copy of object-detection.ipynb",
   "provenance": [],
   "toc_visible": true
  },
  "kernelspec": {
   "display_name": "Python 3",
   "language": "python",
   "name": "python3"
  },
  "language_info": {
   "codemirror_mode": {
    "name": "ipython",
    "version": 3
   },
   "file_extension": ".py",
   "mimetype": "text/x-python",
   "name": "python",
   "nbconvert_exporter": "python",
   "pygments_lexer": "ipython3",
   "version": "3.6.12"
  },
  "papermill": {
   "default_parameters": {},
   "duration": 78.786016,
   "end_time": "2021-02-09T19:20:11.365322",
   "environment_variables": {},
   "exception": null,
   "input_path": "/Users/niko/Desktop/obj/download-data.ipynb",
   "output_path": "/Users/niko/Desktop/obj/download-data.ipynb",
   "parameters": {},
   "start_time": "2021-02-09T19:18:52.579306",
   "version": "2.3.1"
  }
 },
 "nbformat": 4,
 "nbformat_minor": 5
}